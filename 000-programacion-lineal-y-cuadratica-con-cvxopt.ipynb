{
 "metadata": {
  "name": ""
 },
 "nbformat": 3,
 "nbformat_minor": 0,
 "worksheets": [
  {
   "cells": [
    {
     "cell_type": "heading",
     "level": 1,
     "metadata": {},
     "source": [
      "Programaci\u00f3n lineal y cuadr\u00e1tica con CVXOPT"
     ]
    },
    {
     "cell_type": "markdown",
     "metadata": {},
     "source": [
      "[CVXOPT](http://cvxopt.org/) es una librer\u00eda en Python para optimizaci\u00f3n convexa que hace interface a librer\u00edas ya establecidas (como LAPACK, FFTW, GLPK, MOSEK, etc) para  resolver los problemas de manera eficiente."
     ]
    },
    {
     "cell_type": "code",
     "collapsed": false,
     "input": [
      "from cvxopt import matrix, solvers"
     ],
     "language": "python",
     "metadata": {},
     "outputs": [],
     "prompt_number": 1
    },
    {
     "cell_type": "heading",
     "level": 2,
     "metadata": {},
     "source": [
      "Problema de Programaci\u00f3n Lineal"
     ]
    },
    {
     "cell_type": "markdown",
     "metadata": {},
     "source": [
      "Consideramos el siguiente problema:"
     ]
    },
    {
     "cell_type": "code",
     "collapsed": false,
     "input": [
      "%%latex\n",
      "    $$\n",
      "    \\begin{array}{rr}\n",
      "      \\text{minimizar} & 2x_1 + x_2 \\quad\n",
      "      \\\\ \\text{sujeto a} & -x_1 + x_2 \\le 1\n",
      "      \\\\   & x_1 + x_2 \\ge 2\n",
      "      \\\\   & x_2 \\ge 0\n",
      "      \\\\   & x_1 - 2 x_2 \\le 4\n",
      "    \\end{array}\n",
      "    $$"
     ],
     "language": "python",
     "metadata": {},
     "outputs": [
      {
       "latex": [
        "    $$\n",
        "    \\begin{array}{rr}\n",
        "      \\text{minimizar} & 2x_1 + x_2 \\quad\n",
        "      \\\\ \\text{sujeto a} & -x_1 + x_2 \\le 1\n",
        "      \\\\   & x_1 + x_2 \\ge 2\n",
        "      \\\\   & x_2 \\ge 0\n",
        "      \\\\   & x_1 - 2 x_2 \\le 4\n",
        "    \\end{array}\n",
        "    $$"
       ],
       "metadata": {},
       "output_type": "display_data",
       "text": [
        "<IPython.core.display.Latex at 0x9979f0c>"
       ]
      }
     ],
     "prompt_number": 2
    },
    {
     "cell_type": "markdown",
     "metadata": {},
     "source": [
      "De acuerdo a la documentaci\u00f3n de [cvxopt.solvers.lp](http://cvxopt.org/userguide/coneprog.html#cvxopt.solvers.lp), tenemos que expresar el problema como:"
     ]
    },
    {
     "cell_type": "code",
     "collapsed": false,
     "input": [
      "%%latex\n",
      "    $$\n",
      "    \\begin{array}{rr}\n",
      "      \\text{minimizar} & c^t x \\qquad\n",
      "      \\\\ \\text{sujeto a} & G x + s = h\n",
      "      \\\\   & A x = b\n",
      "      \\\\   & s \\succeq 0\n",
      "    \\end{array}\n",
      "    $$"
     ],
     "language": "python",
     "metadata": {},
     "outputs": [
      {
       "latex": [
        "    $$\n",
        "    \\begin{array}{rr}\n",
        "      \\text{minimizar} & c^t x \\qquad\n",
        "      \\\\ \\text{sujeto a} & G x + s = h\n",
        "      \\\\   & A x = b\n",
        "      \\\\   & s \\succeq 0\n",
        "    \\end{array}\n",
        "    $$"
       ],
       "metadata": {},
       "output_type": "display_data",
       "text": [
        "<IPython.core.display.Latex at 0x9979f8c>"
       ]
      }
     ],
     "prompt_number": 3
    },
    {
     "cell_type": "markdown",
     "metadata": {},
     "source": [
      "Entonces:"
     ]
    },
    {
     "cell_type": "code",
     "collapsed": false,
     "input": [
      "%%latex\n",
      "    $$\n",
      "    \\begin{array}{rr}\n",
      "      \\text{minimizar} & \\begin{pmatrix}2 & 1 \\end{pmatrix} \\begin{pmatrix}x_1 \\\\ x_2\\end{pmatrix} \\qquad\\qquad\\qquad\n",
      "      \\\\ \\text{sujeto a} & \\begin{pmatrix} -1 & 2 \\\\ -1 & -2 \\\\ 0 & -1 \\\\ 1 & -2\\end{pmatrix}\n",
      "        \\begin{pmatrix}x_1 \\\\ x_2\\end{pmatrix} + \\begin{pmatrix}s_1 \\\\ s_2\\end{pmatrix}\n",
      "        = \\begin{pmatrix}1 \\\\ -2 \\\\ 0 \\\\ 4 \\end{pmatrix}\n",
      "      \\\\   & \\text{ con } s_1,s_2 \\gt 0\n",
      "    \\end{array}\n",
      "    $$"
     ],
     "language": "python",
     "metadata": {},
     "outputs": [
      {
       "latex": [
        "    $$\n",
        "    \\begin{array}{rr}\n",
        "      \\text{minimizar} & \\begin{pmatrix}2 & 1 \\end{pmatrix} \\begin{pmatrix}x_1 \\\\ x_2\\end{pmatrix} \\qquad\\qquad\\qquad\n",
        "      \\\\ \\text{sujeto a} & \\begin{pmatrix} -1 & 2 \\\\ -1 & -2 \\\\ 0 & -1 \\\\ 1 & -2\\end{pmatrix}\n",
        "        \\begin{pmatrix}x_1 \\\\ x_2\\end{pmatrix} + \\begin{pmatrix}s_1 \\\\ s_2\\end{pmatrix}\n",
        "        = \\begin{pmatrix}1 \\\\ -2 \\\\ 0 \\\\ 4 \\end{pmatrix}\n",
        "      \\\\   & \\text{ con } s_1,s_2 \\gt 0\n",
        "    \\end{array}\n",
        "    $$"
       ],
       "metadata": {},
       "output_type": "display_data",
       "text": [
        "<IPython.core.display.Latex at 0x9979fec>"
       ]
      }
     ],
     "prompt_number": 4
    },
    {
     "cell_type": "markdown",
     "metadata": {},
     "source": [
      "Por lo tanto los argumentos estan dado de la siguiente manera:"
     ]
    },
    {
     "cell_type": "code",
     "collapsed": false,
     "input": [
      "# Notese que el objeto matrix() se declara por-columna en lugar del usual por-fila.\n",
      "A = matrix([[-1., -1., 0., 1.], [1., -1., -1., -2.]])\n",
      "b = matrix([1., -2., 0., 4.])\n",
      "c = matrix([2., 1.])\n",
      "\n",
      "print A\n",
      "print b\n",
      "print c"
     ],
     "language": "python",
     "metadata": {},
     "outputs": [
      {
       "output_type": "stream",
       "stream": "stdout",
       "text": [
        "[-1.00e+00  1.00e+00]\n",
        "[-1.00e+00 -1.00e+00]\n",
        "[ 0.00e+00 -1.00e+00]\n",
        "[ 1.00e+00 -2.00e+00]\n",
        "\n",
        "[ 1.00e+00]\n",
        "[-2.00e+00]\n",
        "[ 0.00e+00]\n",
        "[ 4.00e+00]\n",
        "\n",
        "[ 2.00e+00]\n",
        "[ 1.00e+00]\n",
        "\n"
       ]
      }
     ],
     "prompt_number": 5
    },
    {
     "cell_type": "markdown",
     "metadata": {},
     "source": [
      "Finalmente encontramos la soluci\u00f3n:"
     ]
    },
    {
     "cell_type": "code",
     "collapsed": false,
     "input": [
      "sol = solvers.lp(c, A, b)\n",
      "print sol['x']"
     ],
     "language": "python",
     "metadata": {},
     "outputs": [
      {
       "output_type": "stream",
       "stream": "stdout",
       "text": [
        "     pcost       dcost       gap    pres   dres   k/t\n",
        " 0:  2.6471e+00 -7.0588e-01  2e+01  8e-01  2e+00  1e+00\n",
        " 1:  3.0726e+00  2.8437e+00  1e+00  1e-01  2e-01  3e-01\n",
        " 2:  2.4891e+00  2.4808e+00  1e-01  1e-02  2e-02  5e-02\n",
        " 3:  2.4999e+00  2.4998e+00  1e-03  1e-04  2e-04  5e-04\n",
        " 4:  2.5000e+00  2.5000e+00  1e-05  1e-06  2e-06  5e-06\n",
        " 5:  2.5000e+00  2.5000e+00  1e-07  1e-08  2e-08  5e-08\n",
        "Optimal solution found.\n",
        "[ 5.00e-01]\n",
        "[ 1.50e+00]\n",
        "\n"
       ]
      }
     ],
     "prompt_number": 6
    },
    {
     "cell_type": "heading",
     "level": 2,
     "metadata": {},
     "source": [
      "Problema de Programaci\u00f3n Cuadr\u00e1tica"
     ]
    },
    {
     "cell_type": "markdown",
     "metadata": {},
     "source": [
      "Consideremos el siguiente problema:"
     ]
    },
    {
     "cell_type": "code",
     "collapsed": false,
     "input": [
      "%%latex\n",
      "    $$\n",
      "    \\begin{array}{rr}\n",
      "      \\text{minimizar} & 2x_1^2 + x_2^2 + x_1 x_2 + x_1 + x_2\n",
      "      \\\\ \\text{sujeto a} & -x_1 \\ge 0 \\qquad\n",
      "      \\\\   & x_2 \\ge 0 \\qquad\n",
      "      \\\\   & x_1 + x_2 = 1 \\qquad\n",
      "    \\end{array}\n",
      "    $$"
     ],
     "language": "python",
     "metadata": {},
     "outputs": [
      {
       "latex": [
        "    $$\n",
        "    \\begin{array}{rr}\n",
        "      \\text{minimizar} & 2x_1^2 + x_2^2 + x_1 x_2 + x_1 + x_2\n",
        "      \\\\ \\text{sujeto a} & -x_1 \\ge 0 \\qquad\n",
        "      \\\\   & x_2 \\ge 0 \\qquad\n",
        "      \\\\   & x_1 + x_2 = 1 \\qquad\n",
        "    \\end{array}\n",
        "    $$"
       ],
       "metadata": {},
       "output_type": "display_data",
       "text": [
        "<IPython.core.display.Latex at 0x998e42c>"
       ]
      }
     ],
     "prompt_number": 7
    },
    {
     "cell_type": "markdown",
     "metadata": {},
     "source": [
      "De acuerdo a la documentaci\u00f3n de [cvxopt.solvers.qp](http://cvxopt.org/userguide/coneprog.html#cvxopt.solvers.qp), tenemos que expresar el problema como:"
     ]
    },
    {
     "cell_type": "code",
     "collapsed": false,
     "input": [
      "%%latex\n",
      "    $$\n",
      "    \\begin{array}{rr}\n",
      "      \\text{minimizar} & \\frac{1}{2} x^t P x + q^t\n",
      "      \\\\ \\text{sujeto a} & G x \\preceq h\n",
      "      \\\\   & A x = b\n",
      "    \\end{array}\n",
      "    $$"
     ],
     "language": "python",
     "metadata": {},
     "outputs": [
      {
       "latex": [
        "    $$\n",
        "    \\begin{array}{rr}\n",
        "      \\text{minimizar} & \\frac{1}{2} x^t P x + q^t\n",
        "      \\\\ \\text{sujeto a} & G x \\preceq h\n",
        "      \\\\   & A x = b\n",
        "    \\end{array}\n",
        "    $$"
       ],
       "metadata": {},
       "output_type": "display_data",
       "text": [
        "<IPython.core.display.Latex at 0x998e50c>"
       ]
      }
     ],
     "prompt_number": 8
    },
    {
     "cell_type": "markdown",
     "metadata": {},
     "source": [
      "Entonces:"
     ]
    },
    {
     "cell_type": "code",
     "collapsed": false,
     "input": [
      "%%latex\n",
      "    $$\n",
      "    \\begin{array}{rr}\n",
      "      \\text{minimizar} & \\frac{1}{2} \\begin{pmatrix}x_1 & x_2 \\end{pmatrix}\n",
      "        \\begin{pmatrix} 4 & 1 \\\\ 1 & 2 \\end{pmatrix} \\begin{pmatrix} x_1 \\\\ x_2 \\end{pmatrix}\n",
      "        + \\begin{pmatrix} 1 & 1 \\end{pmatrix} \\begin{pmatrix} x_1 \\\\ x_2 \\end{pmatrix}\n",
      "      \\\\ \\text{sujeto a} & \\begin{pmatrix} -1 & 0 \\\\ 0 & -1 \\end{pmatrix}\n",
      "        \\begin{pmatrix}x_1 \\\\ x_2\\end{pmatrix} \\preceq \\begin{pmatrix} 0 \\\\ 0 \\end{pmatrix} \\qquad\\qquad\n",
      "      \\\\   & \\begin{pmatrix} 1 & 1 \\end{pmatrix} \\begin{pmatrix} x_1 \\\\ x_2 \\end{pmatrix}\n",
      "        = \\begin{pmatrix} 1 \\end{pmatrix} \\qquad\\qquad\n",
      "    \\end{array}\n",
      "    $$"
     ],
     "language": "python",
     "metadata": {},
     "outputs": [
      {
       "latex": [
        "    $$\n",
        "    \\begin{array}{rr}\n",
        "      \\text{minimizar} & \\frac{1}{2} \\begin{pmatrix}x_1 & x_2 \\end{pmatrix}\n",
        "        \\begin{pmatrix} 4 & 1 \\\\ 1 & 2 \\end{pmatrix} \\begin{pmatrix} x_1 \\\\ x_2 \\end{pmatrix}\n",
        "        + \\begin{pmatrix} 1 & 1 \\end{pmatrix} \\begin{pmatrix} x_1 \\\\ x_2 \\end{pmatrix}\n",
        "      \\\\ \\text{sujeto a} & \\begin{pmatrix} -1 & 0 \\\\ 0 & -1 \\end{pmatrix}\n",
        "        \\begin{pmatrix}x_1 \\\\ x_2\\end{pmatrix} \\preceq \\begin{pmatrix} 0 \\\\ 0 \\end{pmatrix} \\qquad\\qquad\n",
        "      \\\\   & \\begin{pmatrix} 1 & 1 \\end{pmatrix} \\begin{pmatrix} x_1 \\\\ x_2 \\end{pmatrix}\n",
        "        = \\begin{pmatrix} 1 \\end{pmatrix} \\qquad\\qquad\n",
        "    \\end{array}\n",
        "    $$"
       ],
       "metadata": {},
       "output_type": "display_data",
       "text": [
        "<IPython.core.display.Latex at 0x998e4ac>"
       ]
      }
     ],
     "prompt_number": 9
    },
    {
     "cell_type": "markdown",
     "metadata": {},
     "source": [
      "Por lo tanto, resolvemos el problema de la siguiente manera:"
     ]
    },
    {
     "cell_type": "code",
     "collapsed": false,
     "input": [
      "P = matrix([[4., 1.], [1., 2.]])\n",
      "q = matrix([1., 1.])\n",
      "G = matrix([[-1., 0.], [0., -1.]])\n",
      "h = matrix([0., 0.])\n",
      "A = matrix([[1.], [1.]])\n",
      "b = matrix([1.])\n",
      "\n",
      "sol = solvers.qp(P, q, G, h, A, b)\n",
      "print sol['x']"
     ],
     "language": "python",
     "metadata": {},
     "outputs": [
      {
       "output_type": "stream",
       "stream": "stdout",
       "text": [
        "     pcost       dcost       gap    pres   dres\n",
        " 0:  1.8889e+00  7.7778e-01  1e+00  3e-16  2e+00\n",
        " 1:  1.8769e+00  1.8320e+00  4e-02  1e-16  6e-02\n",
        " 2:  1.8750e+00  1.8739e+00  1e-03  2e-16  5e-04\n",
        " 3:  1.8750e+00  1.8750e+00  1e-05  2e-16  5e-06\n",
        " 4:  1.8750e+00  1.8750e+00  1e-07  1e-16  5e-08\n",
        "Optimal solution found.\n",
        "[ 2.50e-01]\n",
        "[ 7.50e-01]\n",
        "\n"
       ]
      }
     ],
     "prompt_number": 10
    },
    {
     "cell_type": "markdown",
     "metadata": {},
     "source": [
      "**Referencias:**\n",
      "\n",
      "* CVXOPT: http://cvxopt.org/"
     ]
    }
   ],
   "metadata": {}
  }
 ]
}